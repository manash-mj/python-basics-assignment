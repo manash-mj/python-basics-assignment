{
  "nbformat": 4,
  "nbformat_minor": 0,
  "metadata": {
    "colab": {
      "provenance": []
    },
    "kernelspec": {
      "name": "python3",
      "display_name": "Python 3"
    },
    "language_info": {
      "name": "python"
    }
  },
  "cells": [
    {
      "cell_type": "markdown",
      "source": [
        "# Phyton besics questions"
      ],
      "metadata": {
        "id": "ocURXeuu39s5"
      }
    },
    {
      "cell_type": "markdown",
      "source": [
        "1. What is Python, and why is it popular?\n",
        "\n",
        " -> Python is a high-level, interpreted programming language known its       simplicity, readability, and versatility.\n",
        "\n",
        "  Python is popular because.\n",
        "- Easy to learn: Simple syntax makes it beginner-friendly.\n",
        "- Versatile: Used in web development, data science, machine learning, automation, and more.\n",
        "- Large community: Extensive libraries, frameworks, and support.\n",
        "- Cross-platform: Runs on various operating systems.\n",
        "\n",
        "2. What is an interpreter in Python?\n",
        "\n",
        "  -> In Python, an interpreter is a program that reads and executes Python code line by line. It translates Python code into machine code that the computer's processor can understand and execute immediately.\n",
        "\n",
        "3. What are pre-defined keywords in Python?\n",
        "\n",
        "  ->In Python, keywords are pre-defined words that have special meanings.can't use these keywords as variable names or identifiers.\n",
        "\n",
        "  Examples.\n",
        "- if, else, for, while\n",
        "- def, class, import\n",
        "- True, False, None\n",
        "- and, or, not\n",
        "\n",
        "4.  Can keywords be used as variable names?\n",
        "\n",
        "  -> In Python, keywords cannot be used as variable names.\n",
        "\n",
        "5.  What is mutability in Python?\n",
        "  \n",
        "  -> In Python, mutability refers to the ability of an object to be modified after it's created\n",
        "\n",
        "6.  Why are lists mutable, but tuples are immutable?\n",
        "\n",
        "  -> In Python:\n",
        "- Lists are mutable because they're designed for dynamic changes like adding, removing, or modifying elements.\n",
        "- Tuples are immutable because they're meant for fixed collections of items, ensuring data integrity and enabling optimizations.\n",
        "\n",
        "7. What is the difference between “==” and “is” operators in Python?\n",
        "\n",
        "  -> in Python:\n",
        "- \"==\": Checks for value equality. Compares if the values of two objects are the same.\n",
        "- \"is\": Checks for identity. Compares if two variables refer to the same object in memory.\n",
        "\n",
        "8.  What are logical operators in Python?\n",
        "\n",
        "  -> In Python, logical operators are used to combine conditional statements.\n",
        "\n",
        "9.  What is type casting in Python?\n",
        "\n",
        "  -> in Python, type casting is the process of converting a variable from one data type to another.\n",
        "\n",
        "10.  What is the difference between implicit and explicit type casting?\n",
        "\n",
        "  -> In Python:\n",
        "- Implicit type casting: Python automatically converts one type to another when needed (e.g., int to float in operations).\n",
        "- Explicit type casting: You manually convert a type using functions like int(), float(), str().\n",
        "\n",
        "11. What is the purpose of conditional statements in Python?\n",
        "\n",
        "  -> Purpose of conditional statements in Python, conditional statements allows to execute different blocks of code based on certain conditions.\n",
        "\n",
        "12. How does the elif statement work?\n",
        "\n",
        "  -> In Python,\"elif\" allows you to check multiple conditions sequentially.\n",
        "\n",
        "13.  What is the difference between for and while loops?\n",
        "\n",
        "  -> in Python:\n",
        "- *for loop*: Iterates over a sequence (like a list, tuple, or string) or other iterable objects.\n",
        "- *while loop*: Repeats as long as a condition is true.\n",
        "\n",
        "14. Describe a scenario where a while loop is more suitable than a for loop?\n",
        "\n",
        "  -> Scenario: while loop more suitable than for loop\n",
        "A while loop is more suitable when the number of iterations isn't predetermined and you need to loop based on a condition.\n",
        "\n",
        "Example scenario:\n",
        "- Simulating a game loop: Continue until the game ends (e.g., player quits or runs out of lives).\n",
        "\n",
        "\n",
        "\n",
        "\n",
        "\n",
        "\n",
        "\n",
        "\n",
        "\n",
        "\n",
        "\n",
        "\n",
        "\n",
        "\n",
        "\n",
        "\n",
        "\n"
      ],
      "metadata": {
        "id": "Ru0cfM9t4tXs"
      }
    },
    {
      "cell_type": "markdown",
      "source": [
        "# Practical Questions"
      ],
      "metadata": {
        "id": "IyRu-EjRHRTw"
      }
    },
    {
      "cell_type": "code",
      "source": [
        "# Write a Python program to print \"Hello, World!\n",
        "print(\"Hello, World!\")"
      ],
      "metadata": {
        "colab": {
          "base_uri": "https://localhost:8080/"
        },
        "id": "fbnyobXtHgQY",
        "outputId": "fdfd0fa2-0d35-41f8-9877-56dd393f1358"
      },
      "execution_count": 1,
      "outputs": [
        {
          "output_type": "stream",
          "name": "stdout",
          "text": [
            "Hello, World!\n"
          ]
        }
      ]
    },
    {
      "cell_type": "code",
      "source": [
        "# Write a Python program that displays your name and age.\n",
        "name = input(\"Enter your name: \")\n",
        "age = input(\"Enter your age: \")\n",
        "print(f\"Your name is {name} and your age is {age}.\")"
      ],
      "metadata": {
        "colab": {
          "base_uri": "https://localhost:8080/"
        },
        "id": "BrR3zn16H0O1",
        "outputId": "9eb08bc5-aec0-4cfe-8236-b38e0a4bae0f"
      },
      "execution_count": 4,
      "outputs": [
        {
          "output_type": "stream",
          "name": "stdout",
          "text": [
            "Enter your name: manash\n",
            "Enter your age: 22\n",
            "Your name is manash and your age is 22.\n"
          ]
        }
      ]
    },
    {
      "cell_type": "code",
      "source": [
        "# Write code to print all the pre-defined keywords in Python using the keyword library.\n",
        "import keyword\n",
        "print(keyword.kwlist)"
      ],
      "metadata": {
        "colab": {
          "base_uri": "https://localhost:8080/"
        },
        "id": "BzMSFau5Ic9i",
        "outputId": "1c3303ff-eb3f-4ac1-94f3-fa288456b144"
      },
      "execution_count": 5,
      "outputs": [
        {
          "output_type": "stream",
          "name": "stdout",
          "text": [
            "['False', 'None', 'True', 'and', 'as', 'assert', 'async', 'await', 'break', 'class', 'continue', 'def', 'del', 'elif', 'else', 'except', 'finally', 'for', 'from', 'global', 'if', 'import', 'in', 'is', 'lambda', 'nonlocal', 'not', 'or', 'pass', 'raise', 'return', 'try', 'while', 'with', 'yield']\n"
          ]
        }
      ]
    },
    {
      "cell_type": "code",
      "source": [
        "# Write a program that checks if a given word is a Python keyword.\n",
        "import keyword\n",
        "word = input(\"Enter a word: \")\n",
        "if keyword.iskeyword(word):\n",
        "    print(f\"{word} is a Python keyword.\")\n",
        "else:\n",
        "    print(f\"{word} is not a Python keyword.\")"
      ],
      "metadata": {
        "colab": {
          "base_uri": "https://localhost:8080/"
        },
        "id": "FxhGKmQkI_76",
        "outputId": "e4ab4e6d-6ef9-4fb8-8af0-09a817a85230"
      },
      "execution_count": 8,
      "outputs": [
        {
          "output_type": "stream",
          "name": "stdout",
          "text": [
            "Enter a word: hello\n",
            "hello is not a Python keyword.\n"
          ]
        }
      ]
    },
    {
      "cell_type": "code",
      "source": [
        "# Create a list and tuple in Python, and demonstrate how attempting to change an element works differently for each.\n",
        "my_list = [1, 2, 3, 4, 5]\n",
        "my_tuple = (1, 2, 3, 4, 5)\n",
        "my_list[0] = 10\n",
        "print(my_list)"
      ],
      "metadata": {
        "colab": {
          "base_uri": "https://localhost:8080/"
        },
        "id": "BI1R6o0ML4AN",
        "outputId": "03268261-8b0c-4e00-b3e4-82aa6f7f3e48"
      },
      "execution_count": 23,
      "outputs": [
        {
          "output_type": "stream",
          "name": "stdout",
          "text": [
            "[10, 2, 3, 4, 5]\n"
          ]
        }
      ]
    },
    {
      "cell_type": "code",
      "source": [
        "#  Write a function to demonstrate the behavior of mutable and immutable arguments.\n",
        "def demo_mutable_immutable(num, lst):\n",
        "    num = num + 10\n",
        "    lst.append(10)\n",
        "\n",
        "num = 5\n",
        "lst = [1, 2, 3]\n",
        "demo_mutable_immutable\n",
        "\n",
        "print(num)\n",
        "print(lst)"
      ],
      "metadata": {
        "colab": {
          "base_uri": "https://localhost:8080/"
        },
        "id": "o0zVEmPwMwDu",
        "outputId": "10346683-12f4-4a00-e620-43746cff32a2"
      },
      "execution_count": 33,
      "outputs": [
        {
          "output_type": "stream",
          "name": "stdout",
          "text": [
            "5\n",
            "[1, 2, 3]\n"
          ]
        }
      ]
    },
    {
      "cell_type": "code",
      "source": [
        "# Write a program that performs basic arithmetic operations on two user-input numbers.\n",
        "num1 = float(input(\"Enter the first number: \"))\n",
        "num2 = float(input(\"Enter the second number: \"))\n",
        "addition = num1 + num2\n",
        "subtraction = num1 - num2\n",
        "multiplication = num1 * num2\n",
        "division = num1 / num2\n",
        "print(f\"Addition: {addition}\")\n",
        "print(f\"Subtraction: {subtraction}\")\n",
        "print(f\"Multiplication: {multiplication}\")\n"
      ],
      "metadata": {
        "colab": {
          "base_uri": "https://localhost:8080/"
        },
        "id": "KEFiv0ftOUz4",
        "outputId": "5ed9a9e3-c499-4422-c888-f6eb94cec55d"
      },
      "execution_count": 41,
      "outputs": [
        {
          "output_type": "stream",
          "name": "stdout",
          "text": [
            "Enter the first number: 12\n",
            "Enter the second number: 12\n",
            "Addition: 24.0\n",
            "Subtraction: 0.0\n",
            "Multiplication: 144.0\n"
          ]
        }
      ]
    },
    {
      "cell_type": "code",
      "source": [
        "# Write a program to demonstrate the use of logical operators.\n",
        "num1 = float(input(\"Enter the first number: \"))\n",
        "num2 = float(input(\"Enter the second number: \"))\n",
        "num3 = float(input(\"Enter the third number: \"))\n",
        "print(num1 > num2 and num1 > num3)\n",
        "print(num2 > num1 and num2 > num3)\n",
        "print(num3 > num1 and num3 > num2)2"
      ],
      "metadata": {
        "colab": {
          "base_uri": "https://localhost:8080/"
        },
        "id": "7LUH_YceRTQL",
        "outputId": "a294740e-d3f2-4b7f-8e01-8e66b9e1cc5d"
      },
      "execution_count": 43,
      "outputs": [
        {
          "output_type": "stream",
          "name": "stdout",
          "text": [
            "Enter the first number: 10\n",
            "Enter the second number: 20\n",
            "Enter the third number: 30\n",
            "False\n",
            "False\n",
            "True\n"
          ]
        }
      ]
    },
    {
      "cell_type": "code",
      "source": [
        "# Write a Python program to convert user input from string to integer, float, and boolean types.\n",
        "def main():\n",
        "    user_input = input(\"Enter something: \")\n",
        "\n",
        "    print(f\"As integer: {int(user_input)}\")\n",
        "    print(f\"As float: {float(user_input)}\")\n",
        "    print(f\"As boolean: {bool(user_input)}\")\n",
        "\n",
        "main()"
      ],
      "metadata": {
        "colab": {
          "base_uri": "https://localhost:8080/"
        },
        "id": "EPA26ldUSGwh",
        "outputId": "ab989927-67a8-432a-d2a6-ae9990422093"
      },
      "execution_count": 54,
      "outputs": [
        {
          "output_type": "stream",
          "name": "stdout",
          "text": [
            "Enter something: 2\n",
            "As integer: 2\n",
            "As float: 2.0\n",
            "As boolean: True\n"
          ]
        }
      ]
    },
    {
      "cell_type": "code",
      "source": [
        "#  Write code to demonstrate type casting with list elements.\n",
        "my_list = [1, 2, 3, 4, 5]\n",
        "print(my_list)"
      ],
      "metadata": {
        "colab": {
          "base_uri": "https://localhost:8080/"
        },
        "id": "fBQGc2pBTrku",
        "outputId": "5d474e2e-7280-45f5-c0a0-b7c0c083c6ee"
      },
      "execution_count": 55,
      "outputs": [
        {
          "output_type": "stream",
          "name": "stdout",
          "text": [
            "[1, 2, 3, 4, 5]\n"
          ]
        }
      ]
    },
    {
      "cell_type": "code",
      "source": [
        "# Write a program that checks if a number is positive, negative, or zero.\n",
        "num = float(input(\"Enter a number: \"))\n",
        "if num > 0:\n",
        "    print(\"The number is positive.\")\n",
        "elif num < 0:\n",
        "    print(\"The number is negative.\")\n",
        "else:\n",
        "    print(\"The number is zero.\")"
      ],
      "metadata": {
        "colab": {
          "base_uri": "https://localhost:8080/"
        },
        "id": "oLbwO-OeT0af",
        "outputId": "bf9a26d8-d04b-4d0b-c21c-e9b7185ec166"
      },
      "execution_count": 57,
      "outputs": [
        {
          "output_type": "stream",
          "name": "stdout",
          "text": [
            "Enter a number: 2\n",
            "The number is positive.\n"
          ]
        }
      ]
    },
    {
      "cell_type": "code",
      "source": [
        "# Write a for loop to print numbers from 1 to 10.\n",
        "for i in range(1, 11):\n",
        "    print(i)"
      ],
      "metadata": {
        "colab": {
          "base_uri": "https://localhost:8080/"
        },
        "id": "L5bhY2zPULB1",
        "outputId": "8a67d1b7-3fa4-4943-c92a-9281e4ae4492"
      },
      "execution_count": 58,
      "outputs": [
        {
          "output_type": "stream",
          "name": "stdout",
          "text": [
            "1\n",
            "2\n",
            "3\n",
            "4\n",
            "5\n",
            "6\n",
            "7\n",
            "8\n",
            "9\n",
            "10\n"
          ]
        }
      ]
    },
    {
      "cell_type": "code",
      "source": [
        "#  Write a Python program to find the sum of all even numbers between 1 and 50.\n",
        "sum_of_even = 0\n",
        "for num in range(2, 51, 2):\n",
        "    sum_of_even += num\n",
        "print(sum_of_even)\n"
      ],
      "metadata": {
        "colab": {
          "base_uri": "https://localhost:8080/"
        },
        "id": "Fxkrkim_UWO5",
        "outputId": "12fc494e-a4ce-48b9-d688-d2fd8d09c81a"
      },
      "execution_count": 59,
      "outputs": [
        {
          "output_type": "stream",
          "name": "stdout",
          "text": [
            "650\n"
          ]
        }
      ]
    },
    {
      "cell_type": "code",
      "source": [
        "#Write a program to reverse a string using a while loop.\n",
        "input_string = input(\"Enter a string: \")\n",
        "reversed_string = \"\"\n",
        "index = len(input_string) - 1\n",
        "while index >= 0:\n",
        "    reversed_string += input_string[index]\n",
        "    index -= 1\n",
        "print(reversed_string)\n"
      ],
      "metadata": {
        "colab": {
          "base_uri": "https://localhost:8080/"
        },
        "id": "XX3_wOjJUnKH",
        "outputId": "3f45b349-754e-4a9e-8553-661e051ebf38"
      },
      "execution_count": 61,
      "outputs": [
        {
          "output_type": "stream",
          "name": "stdout",
          "text": [
            "Enter a string: hello\n",
            "olleh\n"
          ]
        }
      ]
    },
    {
      "cell_type": "code",
      "source": [
        "#  Write a Python program to calculate the factorial of a number provided by the user using a while loop.\n",
        "num = int(input(\"Enter a number: \"))\n",
        "factorial = 1\n",
        "current = 1\n",
        "while current <= num:\n",
        "    factorial *= current\n",
        "    current += 1\n",
        "print(f\"The factorial of {num} is {factorial}.\")\n"
      ],
      "metadata": {
        "colab": {
          "base_uri": "https://localhost:8080/"
        },
        "id": "87Wr4ZxIU9Y8",
        "outputId": "f723d7a5-cef9-4a55-90ef-ba40d50ec90e"
      },
      "execution_count": 62,
      "outputs": [
        {
          "output_type": "stream",
          "name": "stdout",
          "text": [
            "Enter a number: 5\n",
            "The factorial of 5 is 120.\n"
          ]
        }
      ]
    },
    {
      "cell_type": "markdown",
      "source": [],
      "metadata": {
        "id": "5xGqzB-84X35"
      }
    },
    {
      "cell_type": "markdown",
      "source": [],
      "metadata": {
        "id": "5blAEXOO334o"
      }
    },
    {
      "cell_type": "markdown",
      "source": [],
      "metadata": {
        "id": "oBzEViV74Mrq"
      }
    }
  ]
}